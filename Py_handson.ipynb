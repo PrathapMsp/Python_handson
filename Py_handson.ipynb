{
  "nbformat": 4,
  "nbformat_minor": 0,
  "metadata": {
    "colab": {
      "name": "Py_handson.ipynb",
      "provenance": [],
      "collapsed_sections": []
    },
    "kernelspec": {
      "name": "python3",
      "display_name": "Python 3"
    },
    "language_info": {
      "name": "python"
    }
  },
  "cells": [
    {
      "cell_type": "code",
      "execution_count": 3,
      "metadata": {
        "colab": {
          "base_uri": "https://localhost:8080/"
        },
        "id": "cAcFQQerbNff",
        "outputId": "b4928e96-61e1-44fe-b921-165b80d46ef0"
      },
      "outputs": [
        {
          "output_type": "stream",
          "name": "stdout",
          "text": [
            "Answer = 27\n"
          ]
        }
      ],
      "source": [
        "#Python Program to Compute the Power of a Number\n",
        "base = 3\n",
        "exponent = 3\n",
        "\n",
        "result = pow(base, exponent)\n",
        "\n",
        "print(\"Answer = \" + str(result))"
      ]
    },
    {
      "cell_type": "code",
      "source": [
        "#Python Program to Find LCM\n",
        "def lcm(x, y):\n",
        "\n",
        "   \n",
        "   if x > y:\n",
        "       greater = x\n",
        "   else:\n",
        "       greater = y\n",
        "\n",
        "   while(True):\n",
        "       if((greater % x == 0) and (greater % y == 0)):\n",
        "           lcm = greater\n",
        "           break\n",
        "       greater += 1\n",
        "\n",
        "   return lcm\n",
        "\n",
        "num1 = 54\n",
        "num2 = 24\n",
        "\n",
        "print(\"The L.C.M. is\", lcm(num1, num2))"
      ],
      "metadata": {
        "colab": {
          "base_uri": "https://localhost:8080/"
        },
        "id": "YS0q8ThZbqN0",
        "outputId": "c7117cfa-7fee-4c51-8c44-aad5264581e4"
      },
      "execution_count": 4,
      "outputs": [
        {
          "output_type": "stream",
          "name": "stdout",
          "text": [
            "The L.C.M. is 216\n"
          ]
        }
      ]
    },
    {
      "cell_type": "code",
      "source": [
        "#Python Program to check if given array is Monotonic\n",
        "def isMonotonic(A):\n",
        "\n",
        "\treturn (all(A[i] <= A[i + 1] for i in range(len(A) - 1)) or\n",
        "\t\t\tall(A[i] >= A[i + 1] for i in range(len(A) - 1)))\n",
        "\n",
        "\n",
        "A = [6, 5, 4, 4]\n",
        "\n",
        "print(isMonotonic(A))"
      ],
      "metadata": {
        "colab": {
          "base_uri": "https://localhost:8080/"
        },
        "id": "d-4ig3LpcFiy",
        "outputId": "1c6d88c2-936a-4745-af46-2bfc4775d8ac"
      },
      "execution_count": 5,
      "outputs": [
        {
          "output_type": "stream",
          "name": "stdout",
          "text": [
            "True\n"
          ]
        }
      ]
    },
    {
      "cell_type": "code",
      "source": [
        "#Python program to print all negative numbers in a range\n",
        "def negativenumbers(a,b):\n",
        "    out=[i for i in range(a,b+1) if i<0]\n",
        "    print(*out)\n",
        "\n",
        "\n",
        "a=-4\n",
        "b=5\n",
        "negativenumbers(a,b)\n"
      ],
      "metadata": {
        "colab": {
          "base_uri": "https://localhost:8080/"
        },
        "id": "_qkLeiVDcqA8",
        "outputId": "c35d15a0-fa3b-46ad-bc64-dc37da96d412"
      },
      "execution_count": 7,
      "outputs": [
        {
          "output_type": "stream",
          "name": "stdout",
          "text": [
            "-4 -3 -2 -1\n"
          ]
        }
      ]
    },
    {
      "cell_type": "code",
      "source": [
        "#Python program to split and join a string\n",
        "s = 'Have a nice day'\n",
        "print(s.split(\" \"))\n",
        "print(\"-\".join(s.split()))\n",
        "\n",
        "\n",
        "#Check if a given string is binary string or not\n",
        "import re\n",
        "ip = \"1001010\"\n",
        "c = re.compile('[^01]')\n",
        "if(len(c.findall(ip))):\n",
        "\tprint(\"No\") \n",
        "else:\n",
        "\tprint(\"Yes\") \n"
      ],
      "metadata": {
        "colab": {
          "base_uri": "https://localhost:8080/"
        },
        "id": "sGfkCBiudIsS",
        "outputId": "f168a21c-97fe-4f65-bc1c-0ab7ed2b9fbe"
      },
      "execution_count": 9,
      "outputs": [
        {
          "output_type": "stream",
          "name": "stdout",
          "text": [
            "['Have', 'a', 'nice', 'day']\n",
            "Have-a-nice-day\n",
            "Yes\n"
          ]
        }
      ]
    },
    {
      "cell_type": "code",
      "source": [
        "# Python program to convert time from 12 hour to 24 hour format\n",
        "def convert24(str1):\n",
        "\t\n",
        "\t\n",
        "\tif str1[-2:] == \"AM\" and str1[:2] == \"12\":\n",
        "\t\treturn \"00\" + str1[2:-2]\n",
        "\t\t\n",
        "\t\n",
        "\telif str1[-2:] == \"AM\":\n",
        "\t\treturn str1[:-2]\n",
        "\t\n",
        "\t\n",
        "\telif str1[-2:] == \"PM\" and str1[:2] == \"12\":\n",
        "\t\treturn str1[:-2]\n",
        "\t\t\n",
        "\telse:\n",
        "\t\t\n",
        "\t\n",
        "\t\treturn str(int(str1[:2]) + 12) + str1[2:8]\n",
        "\n",
        "\t\n",
        "print(convert24(\"03:27:41 PM\"))\n",
        "\n",
        "#Python program to find difference between current time and given time\n",
        "\n",
        "def difference(h1, m1, h2, m2):\n",
        "\tt1 = h1 * 60 + m1\n",
        "\tt2 = h2 * 60 + m2\n",
        "\tif (t1 == t2):\n",
        "\t\tprint(\"Both are same times\")\n",
        "\t\treturn\n",
        "\telse:\n",
        "\t\tdiff = t2-t1\n",
        "\th = (int(diff / 60)) % 24\n",
        "\tm = diff % 60\n",
        "\tprint(h, \":\", m)\n",
        "if __name__ == \"__main__\":\n",
        "\t\n",
        "\tdifference(7, 20, 9, 45)\n",
        "\tdifference(15, 23, 18, 54)\n",
        "\tdifference(16, 20, 16, 20)\n",
        "\n",
        "\n",
        "\n",
        "\n",
        "\n",
        "\n"
      ],
      "metadata": {
        "colab": {
          "base_uri": "https://localhost:8080/"
        },
        "id": "_az0A57td86j",
        "outputId": "4537380c-ae11-443a-dbf0-2355a4b758d9"
      },
      "execution_count": 18,
      "outputs": [
        {
          "output_type": "stream",
          "name": "stdout",
          "text": [
            "15:27:41\n",
            "2 : 25\n",
            "3 : 31\n",
            "Both are same times\n"
          ]
        }
      ]
    }
  ]
}